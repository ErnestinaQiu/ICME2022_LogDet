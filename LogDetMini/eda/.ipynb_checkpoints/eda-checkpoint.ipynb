{
 "cells": [
  {
   "cell_type": "code",
   "execution_count": 1,
   "id": "64e3f642-85bf-4f68-a313-b169a9c41de2",
   "metadata": {},
   "outputs": [],
   "source": [
    "import matplotlib.pyplot as plt\n",
    "%matplotlib inline\n",
    "import numpy as np\n",
    "import os, sys, cv2\n",
    "\n",
    "\n",
    "%load_ext autoreload\n",
    "%autoreload 2\n",
    "\n",
    "import os.path as osp\n",
    "from PIL import Image\n",
    "import random\n"
   ]
  },
  {
   "cell_type": "code",
   "execution_count": 2,
   "id": "719bead8-176a-41a3-9ae5-90bdbdd731a0",
   "metadata": {},
   "outputs": [],
   "source": [
    "root = 'E:/competition/ICME2022/data/round_1/train/train'"
   ]
  },
  {
   "cell_type": "markdown",
   "id": "84ffd117-d92f-46e3-898e-65d891fa8900",
   "metadata": {},
   "source": [
    "# 图像尺寸和长宽比"
   ]
  },
  {
   "cell_type": "code",
   "execution_count": 3,
   "id": "de3ff80d-8544-4e63-95f7-b10a62dd4da7",
   "metadata": {},
   "outputs": [],
   "source": [
    "img_dir = osp.join(root, 'images')\n",
    "import glob\n",
    "import mmcv\n",
    "img_paths = glob.glob(img_dir + '/*')\n",
    "def get_img_size(img_path):\n",
    "    image = Image.open(img_path)\n",
    "    w, h = image.size\n",
    "    return (w, h)"
   ]
  },
  {
   "cell_type": "code",
   "execution_count": 4,
   "id": "79b8f070-f9de-4264-a734-95c7de1bf3cd",
   "metadata": {},
   "outputs": [
    {
     "name": "stdout",
     "output_type": "stream",
     "text": [
      "2477\n"
     ]
    }
   ],
   "source": [
    "print(len(img_paths))"
   ]
  },
  {
   "cell_type": "code",
   "execution_count": 5,
   "id": "6696e406-724e-4d1d-8973-5edea1d86e9e",
   "metadata": {},
   "outputs": [],
   "source": [
    "results = []\n",
    "for img_path in img_paths:\n",
    "    rst = get_img_size(img_path)\n",
    "    results.append(rst)"
   ]
  },
  {
   "cell_type": "code",
   "execution_count": 6,
   "id": "d3283d46-f4a5-413f-a26f-470af032c48d",
   "metadata": {},
   "outputs": [],
   "source": [
    "# results = mmcv.track_parallel_progress(get_img_size, img_paths, 1)"
   ]
  },
  {
   "cell_type": "code",
   "execution_count": 7,
   "id": "fe76df5b-f877-4adb-9900-4506a25c0252",
   "metadata": {},
   "outputs": [
    {
     "data": {
      "image/png": "[encoded data removed]",
      "text/plain": [
       "<Figure size 1152x288 with 3 Axes>"
      ]
     },
     "metadata": {
      "needs_background": "light"
     },
     "output_type": "display_data"
    }
   ],
   "source": [
    "w_list = [x[0] for x in results]\n",
    "h_list = [x[1] for x in results]\n",
    "\n",
    "import seaborn as sns\n",
    "f, ax = plt.subplots(1,3, figsize=(16,4))\n",
    "sns.histplot(w_list, ax=ax[0], palette=sns.light_palette(\"seagreen\", as_cmap=True)).set_title('Width');\n",
    "sns.histplot(h_list, ax=ax[1], palette=sns.color_palette(\"RdPu\", 10)).set_title('Height');\n",
    "sns.histplot(np.array(w_list)/np.array(h_list), ax=ax[2], palette=sns.color_palette(\"RdPu\", 10)).set_title('W&H Ratio');"
   ]
  },
  {
   "cell_type": "markdown",
   "id": "c2f88f17-bcd3-46e0-88a9-bf13d5d9bfb5",
   "metadata": {},
   "source": [
    "大部分都是 `800*800` 的 尺寸，少部分会非常大"
   ]
  },
  {
   "cell_type": "markdown",
   "id": "a0a05df4-86a7-4b01-ad72-85058cf3ed87",
   "metadata": {},
   "source": [
    "# 统计小目标的比例"
   ]
  },
  {
   "cell_type": "code",
   "execution_count": 8,
   "id": "2559b131-65ee-4727-9c14-7f1087b35521",
   "metadata": {},
   "outputs": [
    {
     "name": "stdout",
     "output_type": "stream",
     "text": [
      "loading annotations into memory...\n",
      "Done (t=0.06s)\n",
      "creating index...\n",
      "index created!\n"
     ]
    }
   ],
   "source": [
    "from pycocotools.coco import COCO\n",
    "json_path = osp.join(root, 'annotations', 'instances_train2017.json')\n",
    "coco = COCO(json_path)"
   ]
  },
  {
   "cell_type": "code",
   "execution_count": 10,
   "id": "29e19971-eee9-4421-af31-f80aaaff6c89",
   "metadata": {},
   "outputs": [
    {
     "name": "stdout",
     "output_type": "stream",
     "text": [
      "bbox 小目标(area<%3)占比 统计\n",
      "+------------------------+---------------------+\n",
      "|         class          |  small object ratio |\n",
      "+------------------------+---------------------+\n",
      "|         冰墩墩         | 0.35398230088495575 |\n",
      "|       Sanyo/三洋       |         1.0         |\n",
      "|     Eifini/伊芙丽      |         1.0         |\n",
      "|      PSALTER/诗篇      |  0.9636363636363636 |\n",
      "|        Beaster         |       0.84375       |\n",
      "|        ON/昂跑         |  0.9878048780487805 |\n",
      "|     BYREDO/柏芮朵      |  0.9568965517241379 |\n",
      "|         Ubras          |         0.98        |\n",
      "|       Eternelle        |  0.6326530612244898 |\n",
      "| PERFECT DIARY/完美日记 |  0.8918918918918919 |\n",
      "|         花西子         |  0.9897959183673469 |\n",
      "|     Clarins/娇韵诗     |  0.9734513274336283 |\n",
      "|   L'occitane/欧舒丹    |  0.9716312056737588 |\n",
      "|     Versace/范思哲     |  0.8235294117647058 |\n",
      "|     Mizuno/美津浓      |  0.7520661157024794 |\n",
      "|      Lining/李宁       |         0.95        |\n",
      "|    DOUBLE STAR/双星    |  0.5416666666666666 |\n",
      "|     YONEX/尤尼克斯     |  0.8475609756097561 |\n",
      "|  Tory Burch/汤丽柏琦   |  0.9105691056910569 |\n",
      "|       Gucci/古驰       |  0.9432624113475178 |\n",
      "| Louis Vuitton/路易威登 |  0.9702970297029703 |\n",
      "|   CARTELO/卡帝乐鳄鱼   |  0.7894736842105263 |\n",
      "|         JORDAN         |       0.828125      |\n",
      "|         KENZO          |  0.8148148148148148 |\n",
      "|       UNDEFEATED       |  0.8936170212765957 |\n",
      "|       BOY LONDON       |  0.6715328467153284 |\n",
      "|       TREYO/雀友       |  0.9081632653061225 |\n",
      "|        carhartt        |  0.9514563106796117 |\n",
      "|          洁柔          |  0.9771241830065359 |\n",
      "|     Blancpain/宝珀     |         1.0         |\n",
      "|          GXG           |         1.0         |\n",
      "|          乐町          |         1.0         |\n",
      "|    Diadora/迪亚多纳    | 0.38271604938271603 |\n",
      "|     TUCANO/啄木鸟      |  0.6031746031746031 |\n",
      "|         Loewe          |  0.9120879120879121 |\n",
      "|      Granite Gear      |  0.9813084112149533 |\n",
      "|    DESCENTE/迪桑特     |         1.0         |\n",
      "|         OSPREY         |  0.8968253968253969 |\n",
      "|     Swatch/斯沃琪      |  0.9466666666666667 |\n",
      "|     erke/鸿星尔克      |  0.8674698795180723 |\n",
      "|     Massimo Dutti      |  0.9807692307692307 |\n",
      "|         PINKO          |  0.8390804597701149 |\n",
      "|       PALLADIUM        |  0.9441624365482234 |\n",
      "|    origins/悦木之源    |  0.9767441860465116 |\n",
      "|       Trendiano        |         1.0         |\n",
      "|          音儿          |         1.0         |\n",
      "|   Monster Guardians    |  0.9891304347826086 |\n",
      "|         敷尔佳         |  0.8620689655172413 |\n",
      "|      IPSA/茵芙莎       |  0.9777777777777777 |\n",
      "|   Schwarzkopf/施华蔻   |  0.954954954954955  |\n",
      "|          all           |  0.8899438093392753 |\n",
      "+------------------------+---------------------+\n"
     ]
    }
   ],
   "source": [
    "print('bbox 小目标(area<%3)占比 统计')\n",
    "class_names = []\n",
    "wh_ratios_cls = []\n",
    "for cat_id in coco.cats:\n",
    "    wh_ratios = []\n",
    "    for ann_id in coco.getAnnIds(catIds=[cat_id]):\n",
    "        ann = coco.anns[ann_id]\n",
    "        image_id = ann['image_id']\n",
    "        w_ratio = ann['bbox'][2] / coco.imgs[image_id]['width']\n",
    "        h_ratio = ann['bbox'][3] / coco.imgs[image_id]['height']\n",
    "        wh_ratios.append([w_ratio, h_ratio])\n",
    "    wh_ratios = np.array(wh_ratios)\n",
    "    wh_ratios[:, -1] = wh_ratios[:, 0] * wh_ratios[:, 1]\n",
    "    # print(coco.cats[cat_id]['name'], (wh_ratios[:,-1]<0.03).sum() / wh_ratios.shape[0])\n",
    "    class_names.append(coco.cats[cat_id]['name'])\n",
    "    wh_ratios_cls.append((wh_ratios[:,-1]<0.03).sum() / wh_ratios.shape[0])\n",
    "\n",
    "wh_ratios = []\n",
    "for _, ann in coco.anns.items():\n",
    "    image_id = ann['image_id']\n",
    "    w_ratio = ann['bbox'][2] / coco.imgs[image_id]['width']\n",
    "    h_ratio = ann['bbox'][3] / coco.imgs[image_id]['height']\n",
    "    wh_ratios.append([w_ratio, h_ratio])\n",
    "wh_ratios = np.array(wh_ratios)\n",
    "wh_ratios[:, -1] = wh_ratios[:, 0] * wh_ratios[:, 1]\n",
    "# print('all ', (wh_ratios[:,-1]<0.03).sum() / wh_ratios.shape[0])\n",
    "class_names.append('all')\n",
    "wh_ratios_cls.append((wh_ratios[:,-1]<0.03).sum() / wh_ratios.shape[0])\n",
    "\n",
    "from prettytable import PrettyTable\n",
    "table_data = PrettyTable()\n",
    "table_data.add_column('class', class_names)\n",
    "table_data.add_column('small object ratio', wh_ratios_cls)\n",
    "print(table_data.get_string())"
   ]
  },
  {
   "cell_type": "markdown",
   "id": "94db5800-7805-458b-a9c0-385ff9214e7a",
   "metadata": {},
   "source": [
    "小目标(area<%3) 占据了大部分"
   ]
  },
  {
   "cell_type": "markdown",
   "id": "edc22cd9-de3b-40c9-aedd-8ea0302c6d8d",
   "metadata": {},
   "source": [
    "# bbox长宽比"
   ]
  },
  {
   "cell_type": "code",
   "execution_count": 11,
   "id": "ea1a5e4b-5433-4aee-9517-b174d025d1c1",
   "metadata": {},
   "outputs": [
    {
     "data": {
      "image/png": "[encoded data removed]",
      "text/plain": [
       "<Figure size 432x288 with 1 Axes>"
      ]
     },
     "metadata": {
      "needs_background": "light"
     },
     "output_type": "display_data"
    }
   ],
   "source": [
    "# refer: https://zhuanlan.zhihu.com/p/108885033\n",
    "bbox_wh = [round(max(ann['bbox'][2], ann['bbox'][3]) / min(ann['bbox'][2], ann['bbox'][3]), 0) for _, ann in coco.anns.items()]\n",
    "import pandas as pd\n",
    "bbox_wh_unique = list(set(bbox_wh))\n",
    "bbox_wh_count=[bbox_wh.count(i) for i in bbox_wh_unique]\n",
    "k = 10\n",
    "wh_df = pd.DataFrame(bbox_wh_count[:k], index=bbox_wh_unique[:k])\n",
    "wh_df.plot(kind='bar',color=\"#55aacc\")\n",
    "plt.show()"
   ]
  },
  {
   "cell_type": "code",
   "execution_count": null,
   "id": "c0d4279b-129b-405f-b840-92b5ae9d2f10",
   "metadata": {},
   "outputs": [],
   "source": []
  }
 ],
 "metadata": {
  "kernelspec": {
   "display_name": "Python 3 (ipykernel)",
   "language": "python",
   "name": "python3"
  },
  "language_info": {
   "codemirror_mode": {
    "name": "ipython",
    "version": 3
   },
   "file_extension": ".py",
   "mimetype": "text/x-python",
   "name": "python",
   "nbconvert_exporter": "python",
   "pygments_lexer": "ipython3",
   "version": "3.7.12"
  }
 },
 "nbformat": 4,
 "nbformat_minor": 5
}
